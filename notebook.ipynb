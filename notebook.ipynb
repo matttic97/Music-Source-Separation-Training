{
 "cells": [
  {
   "cell_type": "code",
   "execution_count": 2,
   "metadata": {},
   "outputs": [
    {
     "name": "stderr",
     "output_type": "stream",
     "text": [
      "Traceback (most recent call last):\n",
      "  File \"inference.py\", line 112, in <module>\n",
      "    proc_folder(None)\n",
      "  File \"inference.py\", line 74, in proc_folder\n",
      "    with open(args.config_path) as f:\n",
      "FileNotFoundError: [Errno 2] No such file or directory: 'ZFTurbo/configs/config_vocals_mdx23c.yaml'\n"
     ]
    }
   ],
   "source": [
    "!python inference.py --model_type mdx23c --config_path configs/config_vocals_mdx23c.yaml --start_check_point results/last_mdx23c.ckpt --input_folder dataset/mp3s --store_dir output/mdx23c/"
   ]
  }
 ],
 "metadata": {
  "kernelspec": {
   "display_name": ".venv",
   "language": "python",
   "name": "python3"
  },
  "language_info": {
   "codemirror_mode": {
    "name": "ipython",
    "version": 3
   },
   "file_extension": ".py",
   "mimetype": "text/x-python",
   "name": "python",
   "nbconvert_exporter": "python",
   "pygments_lexer": "ipython3",
   "version": "3.8.10"
  }
 },
 "nbformat": 4,
 "nbformat_minor": 2
}
